{
 "cells": [
  {
   "cell_type": "markdown",
   "metadata": {},
   "source": [
    "### Stack Example"
   ]
  },
  {
   "cell_type": "code",
   "execution_count": 1,
   "metadata": {},
   "outputs": [],
   "source": [
    "#Define Stack class\n",
    "class Stack:\n",
    "    \"\"\"This is an implementation of Python stack data structure\n",
    "    \"\"\"\n",
    "    # Intialize to empty list\n",
    "    def __init__(self,default=None):#This default list creates problem for multiple stack instances. See how it can be fixed\n",
    "        #Create an instance variable called lst_stack\n",
    "        if default==None:\n",
    "            default=[]\n",
    "        self.lst_stack=default  \n",
    "    #Push operation - gets an element and add to the end of the list\n",
    "    #Return the updated stack\n",
    "    def push(self,e):\n",
    "        self.lst_stack.append(e)\n",
    "        return self.lst_stack\n",
    "    #Pop operation - Remove and return the last element of  the list - LIFO\n",
    "    #Return the element removed\n",
    "    def pop(self):\n",
    "        self.lst_stack.pop()\n",
    "        return self.lst_stack\n",
    "    #Print the top element of the stack\n",
    "    def top(self):\n",
    "        return self.lst_stack[-1]     \n",
    "    #Return size of the stack\n",
    "    def size(self):\n",
    "        return len(self.lst_stack)\n",
    "    #Check if the stack is empty - return True if empty else False\n",
    "    def empty(self):\n",
    "        if len(self.lst_stack) == 0:\n",
    "            return True\n",
    "        else:\n",
    "            return False"
   ]
  },
  {
   "cell_type": "code",
   "execution_count": 2,
   "metadata": {},
   "outputs": [
    {
     "name": "stdout",
     "output_type": "stream",
     "text": [
      "[90]\n",
      "[90, 80]\n",
      "[90, 80, 70]\n",
      "[90, 80]\n",
      "False\n",
      "2\n",
      "[900]\n",
      "[900, 800]\n",
      "[900, 800, 700]\n",
      "[900, 800]\n",
      "False\n",
      "2\n"
     ]
    }
   ],
   "source": [
    "#Create instances and test\n",
    "s1=Stack()\n",
    "print(s1.push(90))\n",
    "print(s1.push(80))\n",
    "print(s1.push(70))\n",
    "print(s1.pop())\n",
    "print(s1.empty())\n",
    "print(s1.size())\n",
    "\n",
    "s2=Stack()\n",
    "print(s2.push(900))\n",
    "print(s2.push(800))\n",
    "print(s2.push(700))\n",
    "print(s2.pop())\n",
    "print(s2.empty())\n",
    "print(s2.size())"
   ]
  },
  {
   "cell_type": "markdown",
   "metadata": {},
   "source": [
    "### Queue Example"
   ]
  },
  {
   "cell_type": "code",
   "execution_count": 3,
   "metadata": {},
   "outputs": [],
   "source": [
    "#Queue definition\n",
    "class Queue:\n",
    "    #Intialization block\n",
    "    def __init__(self, default=None):\n",
    "        if default==None:\n",
    "            default=[]\n",
    "        self.lst_q=default\n",
    "    \n",
    "    #Enqueue - Add to the queue\n",
    "    def enqueue(self,e):\n",
    "        self.lst_q.append(e)\n",
    "        return self.lst_q\n",
    "        \n",
    "    #Dequeue - Remove the first element of the queue - FIFO\n",
    "    def dequeue(self):\n",
    "        self.lst_q.pop(0)\n",
    "        return self.lst_q\n",
    "    \n",
    "    #Returns the front most element - does not remove\n",
    "    def front(self):\n",
    "        return self.lst_q[0]\n",
    "    \n",
    "    #Returns the last element of the queue\n",
    "    def rear(self):\n",
    "        return self.lst_q[-1]"
   ]
  },
  {
   "cell_type": "code",
   "execution_count": 4,
   "metadata": {},
   "outputs": [
    {
     "name": "stdout",
     "output_type": "stream",
     "text": [
      "[90]\n",
      "[90, 80]\n",
      "[90, 80, 70]\n",
      "[90, 80, 70, 60]\n",
      "[80, 70, 60]\n",
      "80\n",
      "60\n",
      "[900]\n",
      "[900, 800]\n",
      "[900, 800, 700]\n",
      "[900, 800, 700, 600]\n",
      "[800, 700, 600]\n",
      "800\n",
      "600\n"
     ]
    }
   ],
   "source": [
    "#Create instances and check working of methods - Refer stack example\n",
    "q1=Queue()\n",
    "print(q1.enqueue(90))\n",
    "print(q1.enqueue(80))\n",
    "print(q1.enqueue(70))\n",
    "print(q1.enqueue(60))\n",
    "print(q1.dequeue())\n",
    "print(q1.front())\n",
    "print(q1.rear())\n",
    "q2=Queue()\n",
    "print(q2.enqueue(900))\n",
    "print(q2.enqueue(800))\n",
    "print(q2.enqueue(700))\n",
    "print(q2.enqueue(600))\n",
    "print(q2.dequeue())\n",
    "print(q2.front())\n",
    "print(q2.rear())"
   ]
  },
  {
   "cell_type": "markdown",
   "metadata": {},
   "source": [
    "### Binary Tree"
   ]
  },
  {
   "cell_type": "code",
   "execution_count": 5,
   "metadata": {},
   "outputs": [],
   "source": [
    "class Node():\n",
    "    def __init__(self,data,left,right,parent,sibling):\n",
    "        self.data = data \n",
    "        self.left = left \n",
    "        self.right = right \n",
    "        self.parent = parent\n",
    "        self.sibling = sibling\n",
    "\n",
    "class BinaryTree(): \n",
    "    \n",
    "    #Intitialize binary tree with the root\n",
    "    def __init__(self, root): \n",
    "        r = Node(root, None,None,None,None)#Create the parent node\n",
    "        self.root = r#Set the root node - will help in traversal\n",
    "        self.ptr = r#Pointer to the node for further insertion\n",
    "   \n",
    "    #Insert a node\n",
    "    def insert(self, e):\n",
    "        element = Node(e, None,None,None,None)\n",
    "        if self.ptr.left==None:#Fill left always first before right\n",
    "            self.ptr.left=element\n",
    "            element.parent=self.ptr\n",
    "        elif self.ptr.right==None:#left already has a node. Insert as right child\n",
    "            self.ptr.right=element\n",
    "            element.parent=self.ptr\n",
    "            element.sibling=self.ptr.left\n",
    "        else:\n",
    "            if self.ptr==self.root:\n",
    "                self.ptr=self.ptr.left\n",
    "            elif self.ptr.parent.right.left==None:\n",
    "                self.ptr=self.ptr.parent.right\n",
    "            else:\n",
    "                self.ptr=self.ptr.parent.left.left\n",
    "            self.ptr.left=element\n",
    "            element.parent=self.ptr\n",
    "                \n",
    "    def preOrder(self,rt):#Start pre order with root and recursively call preorder for left and right nodes\n",
    "        if rt is not None:\n",
    "            print(rt.data)\n",
    "        if rt.left is not None:#If the left child is present, call preorder with left\n",
    "            self.preOrder(rt.left)\n",
    "        if rt.right is not None:#If the right child is present, call preorder with right\n",
    "            self.preOrder(rt.right)"
   ]
  },
  {
   "cell_type": "code",
   "execution_count": 6,
   "metadata": {},
   "outputs": [
    {
     "name": "stdout",
     "output_type": "stream",
     "text": [
      "10\n",
      "45\n",
      "81\n",
      "98\n",
      "18\n",
      "33\n"
     ]
    }
   ],
   "source": [
    "b1=BinaryTree(10)\n",
    "b1.insert(45)\n",
    "b1.insert(18)\n",
    "b1.insert(81)\n",
    "b1.insert(98)\n",
    "b1.insert(33)\n",
    "b1.preOrder(b1.root)"
   ]
  },
  {
   "cell_type": "markdown",
   "metadata": {},
   "source": [
    "### Recursion "
   ]
  },
  {
   "cell_type": "code",
   "execution_count": 7,
   "metadata": {},
   "outputs": [
    {
     "name": "stdout",
     "output_type": "stream",
     "text": [
      "* * * * * \n",
      "* * * * \n",
      "* * * \n",
      "* * \n",
      "* \n"
     ]
    }
   ],
   "source": [
    "n=5\n",
    "#Recursive function\n",
    "def print_re(symbol, times):\n",
    "    #Fill the logic here\n",
    "    if times == 0:\n",
    "        return\n",
    "    print(\"* \"*times)\n",
    "    print_re(\"* \",times-1)\n",
    "print_re(\"* \",n)"
   ]
  },
  {
   "cell_type": "markdown",
   "metadata": {},
   "source": [
    "### Identical pairs of numeric arrays"
   ]
  },
  {
   "cell_type": "code",
   "execution_count": 9,
   "metadata": {},
   "outputs": [
    {
     "name": "stdout",
     "output_type": "stream",
     "text": [
      "[(0, 3), (0, 7), (3, 7), (1, 5), (1, 6), (5, 6)]\n"
     ]
    }
   ],
   "source": [
    "from itertools import combinations\n",
    "a=[1,2,3,1,4,2,2,1] \n",
    "res=[]\n",
    "l=len(a)\n",
    "#Define the logic for retrieving identical pairs over here\n",
    "d=dict(zip(range(l),a))\n",
    "t={}\n",
    "for key,value in d.items():\n",
    "    if value not in t:\n",
    "        t[value]=[key]\n",
    "    else:\n",
    "        t[value].append(key)\n",
    "m=list(t.values())\n",
    "for i in range(len(m)):\n",
    "    if len(m[i])>1:\n",
    "        res.extend(list(combinations(m[i],2)))\n",
    "print(res)"
   ]
  }
 ],
 "metadata": {
  "kernelspec": {
   "display_name": "Python 3",
   "language": "python",
   "name": "python3"
  },
  "language_info": {
   "codemirror_mode": {
    "name": "ipython",
    "version": 3
   },
   "file_extension": ".py",
   "mimetype": "text/x-python",
   "name": "python",
   "nbconvert_exporter": "python",
   "pygments_lexer": "ipython3",
   "version": "3.7.3"
  }
 },
 "nbformat": 4,
 "nbformat_minor": 2
}
