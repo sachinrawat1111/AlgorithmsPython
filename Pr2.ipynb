{
 "cells": [
  {
   "cell_type": "markdown",
   "metadata": {},
   "source": [
    "### Linear Search"
   ]
  },
  {
   "cell_type": "code",
   "execution_count": 1,
   "metadata": {},
   "outputs": [
    {
     "name": "stdout",
     "output_type": "stream",
     "text": [
      "Enter the key to be searched:122\n",
      "Array = [-89, 34, 122, 902, 132, 101, 327, 849]\n",
      "Element 122 found at index = 2\n"
     ]
    }
   ],
   "source": [
    "numbers = [-89,34,122,902,132,101,327,849]\n",
    "key = int(input(\"Enter the key to be searched:\"))\n",
    "print(\"Array =\",numbers)\n",
    "#Search the key in the list traversing element by element\n",
    "#for loop on numbers\n",
    "index = -1\n",
    "for i in range(len(numbers)):\n",
    "    if numbers[i] == key:\n",
    "        index = i\n",
    "        break\n",
    "if index == -1:\n",
    "    print(\"Element does not exist in list\")\n",
    "else:\n",
    "    print(\"Element\",key,\"found at index =\",index)\n",
    "#print the result"
   ]
  },
  {
   "cell_type": "markdown",
   "metadata": {},
   "source": [
    "### Binary Search"
   ]
  },
  {
   "cell_type": "code",
   "execution_count": 2,
   "metadata": {},
   "outputs": [
    {
     "name": "stdout",
     "output_type": "stream",
     "text": [
      "Enter the key to be searched:101\n",
      "Unsorted array = [-89, 34, 122, 902, 132, 101, 327, 849]\n",
      "Sorted array = [-89, 34, 101, 122, 132, 327, 849, 902]\n",
      "Element 101 found at index = 2 for sorted array\n"
     ]
    }
   ],
   "source": [
    "numbers = [-89,34,122,902,132,101,327,849]\n",
    "key = int(input(\"Enter the key to be searched:\"))\n",
    "print(\"Unsorted array =\",numbers)\n",
    "numbers.sort()\n",
    "print(\"Sorted array =\",numbers)\n",
    "low = 0\n",
    "high = len(numbers) - 1\n",
    "mid = 0\n",
    "index = -1\n",
    "while low <= high:\n",
    "    mid=(low + high) // 2\n",
    "    if numbers[mid] == key:\n",
    "        index = mid\n",
    "        break\n",
    "    elif numbers[mid] > key:\n",
    "        high = mid - 1\n",
    "    else:\n",
    "        low = mid + 1\n",
    "if index == -1:\n",
    "    print(\"Element does not exist in list\")\n",
    "else:\n",
    "    print(\"Element\",key,\"found at index =\",mid,\"for sorted array\")\n",
    "#While loop to find the middle element and then search in the appropriate partition\n",
    "#print the result"
   ]
  },
  {
   "cell_type": "markdown",
   "metadata": {},
   "source": [
    "### Bubble Sort"
   ]
  },
  {
   "cell_type": "code",
   "execution_count": 3,
   "metadata": {},
   "outputs": [
    {
     "name": "stdout",
     "output_type": "stream",
     "text": [
      "Unsorted array = [67, 12, 45, 90, 31, 28, 88, 9, 13, 61]\n",
      "Sorted array = [9, 12, 13, 28, 31, 45, 61, 67, 88, 90]\n"
     ]
    }
   ],
   "source": [
    "srt_numbers = [67,12,45,90,31,28,88,9,13,61]\n",
    "#nested loops for n-1 passes\n",
    "print(\"Unsorted array =\",srt_numbers)\n",
    "swap = False\n",
    "temp = 0\n",
    "n = len(srt_numbers)\n",
    "for i in range(n):\n",
    "    swap = False\n",
    "    for j in range(n-i-1):\n",
    "        if srt_numbers[j] > srt_numbers[j+1]:\n",
    "            temp = srt_numbers[j]\n",
    "            srt_numbers[j] = srt_numbers[j+1]\n",
    "            srt_numbers[j+1] = temp\n",
    "            swap = True\n",
    "    if swap == False:\n",
    "        break\n",
    "print(\"Sorted array =\",srt_numbers)\n",
    "#Bubble sort time complexity is O(n2) even when the array is sorted\n",
    "#Remember to set a flag to stop when no more swaps are found\n",
    "#print the sorted array"
   ]
  },
  {
   "cell_type": "markdown",
   "metadata": {},
   "source": [
    "### Insertion Sort"
   ]
  },
  {
   "cell_type": "code",
   "execution_count": 4,
   "metadata": {},
   "outputs": [
    {
     "name": "stdout",
     "output_type": "stream",
     "text": [
      "Unsorted array = [67, 12, 45, 90, 31, 28, 88, 9, 13, 61]\n",
      "Sorted array = [9, 12, 13, 28, 31, 45, 61, 67, 88, 90]\n"
     ]
    }
   ],
   "source": [
    "srt_numbers = [67,12,45,90,31,28,88,9,13,61]\n",
    "print(\"Unsorted array =\",srt_numbers)\n",
    "#nested loops for n-1 key comparisons\n",
    "n = len(srt_numbers)\n",
    "for i in range(1,n):\n",
    "    key=srt_numbers[i]\n",
    "    j=i-1\n",
    "    while j >= 0 and key < srt_numbers[j]:\n",
    "        srt_numbers[j+1] = srt_numbers[j]\n",
    "        j -= 1\n",
    "        srt_numbers[j+1] = key\n",
    "#Compare the key with all the elements to the left of the key\n",
    "print(\"Sorted array =\",srt_numbers)\n",
    "#print the sorted array"
   ]
  }
 ],
 "metadata": {
  "kernelspec": {
   "display_name": "Python 3",
   "language": "python",
   "name": "python3"
  },
  "language_info": {
   "codemirror_mode": {
    "name": "ipython",
    "version": 3
   },
   "file_extension": ".py",
   "mimetype": "text/x-python",
   "name": "python",
   "nbconvert_exporter": "python",
   "pygments_lexer": "ipython3",
   "version": "3.7.3"
  }
 },
 "nbformat": 4,
 "nbformat_minor": 2
}
