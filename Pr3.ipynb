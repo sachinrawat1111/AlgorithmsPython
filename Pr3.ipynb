{
 "cells": [
  {
   "cell_type": "markdown",
   "metadata": {},
   "source": [
    "# Merge Sort."
   ]
  },
  {
   "cell_type": "code",
   "execution_count": 1,
   "metadata": {},
   "outputs": [],
   "source": [
    "def merge(a,l,mid,h):\n",
    "    L=a[l:mid+1]\n",
    "    R=a[mid+1:h+1]\n",
    "    i=0\n",
    "    j=0\n",
    "    k=l\n",
    "    m=len(L)-1\n",
    "    n=len(R)-1\n",
    "    while i<=m and j<=n:\n",
    "        if L[i]<=R[j]:\n",
    "            a[k]=L[i]\n",
    "            i+=1\n",
    "        else:\n",
    "            a[k]=R[j]\n",
    "            j+=1\n",
    "        k+=1\n",
    "    while i<=m:\n",
    "        a[k]=L[i]\n",
    "        i+=1\n",
    "        k+=1\n",
    "    while j<=n:\n",
    "        a[k]=R[j]\n",
    "        j+=1\n",
    "        k+=1"
   ]
  },
  {
   "cell_type": "code",
   "execution_count": 2,
   "metadata": {},
   "outputs": [],
   "source": [
    "def mergeSort(a,l,h):\n",
    "    if l<h:\n",
    "        mid=(l+h)//2\n",
    "        mergeSort(a,l,mid)\n",
    "        mergeSort(a,mid+1,h)\n",
    "        merge(a,l,mid,h)\n",
    "    else:\n",
    "        return"
   ]
  },
  {
   "cell_type": "code",
   "execution_count": 3,
   "metadata": {},
   "outputs": [
    {
     "name": "stdout",
     "output_type": "stream",
     "text": [
      "Unsorted array = [10, 9, 8, 7, 11, 12, 15, 1, 0]\n",
      "Sorted array = [0, 1, 7, 8, 9, 10, 11, 12, 15]\n"
     ]
    }
   ],
   "source": [
    "a=[10,9,8,7,11,12,15,1,0]\n",
    "print(\"Unsorted array =\",a)\n",
    "mergeSort(a,0,len(a)-1)\n",
    "print(\"Sorted array =\",a)"
   ]
  },
  {
   "cell_type": "markdown",
   "metadata": {},
   "source": [
    "# Quick Sort"
   ]
  },
  {
   "cell_type": "code",
   "execution_count": 4,
   "metadata": {},
   "outputs": [],
   "source": [
    "def partition(a,l,h):\n",
    "    pivot=a[h]\n",
    "    i=l-1\n",
    "    for j in range(l,h):\n",
    "        if a[j]<=pivot:\n",
    "            i+=1\n",
    "            a[i],a[j]=a[j],a[i]\n",
    "    a[h],a[i+1]=a[i+1],a[h]\n",
    "    return i+1"
   ]
  },
  {
   "cell_type": "code",
   "execution_count": 5,
   "metadata": {},
   "outputs": [],
   "source": [
    "def quicksort(a,l,h):\n",
    "    if l<h:\n",
    "        j=partition(a,l,h)\n",
    "        quicksort(a,l,j-1)\n",
    "        quicksort(a,j+1,h)\n",
    "    else:\n",
    "        return"
   ]
  },
  {
   "cell_type": "code",
   "execution_count": 6,
   "metadata": {},
   "outputs": [
    {
     "name": "stdout",
     "output_type": "stream",
     "text": [
      "Unsorted array = [1, 2, 9, 7, 4, 0, 6, 5, 8, 3]\n",
      "Sorted array = [0, 1, 2, 3, 4, 5, 6, 7, 8, 9]\n"
     ]
    }
   ],
   "source": [
    "a=[1,2,9,7,4,0,6,5,8,3]\n",
    "print(\"Unsorted array =\",a)\n",
    "quicksort(a,0,len(a)-1)\n",
    "print(\"Sorted array =\",a)"
   ]
  }
 ],
 "metadata": {
  "kernelspec": {
   "display_name": "Python 3",
   "language": "python",
   "name": "python3"
  },
  "language_info": {
   "codemirror_mode": {
    "name": "ipython",
    "version": 3
   },
   "file_extension": ".py",
   "mimetype": "text/x-python",
   "name": "python",
   "nbconvert_exporter": "python",
   "pygments_lexer": "ipython3",
   "version": "3.7.3"
  }
 },
 "nbformat": 4,
 "nbformat_minor": 2
}
